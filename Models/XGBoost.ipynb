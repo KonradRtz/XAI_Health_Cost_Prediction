{
 "cells": [
  {
   "cell_type": "code",
   "execution_count": 4,
   "metadata": {},
   "outputs": [],
   "source": [
    "import pandas as pd\n",
    "import numpy as np\n",
    "from sklearn.model_selection import train_test_split, RandomizedSearchCV\n",
    "from sklearn.pipeline import Pipeline\n",
    "from sklearn.preprocessing import StandardScaler\n",
    "from xgboost import XGBRegressor\n",
    "from sklearn.metrics import r2_score, make_scorer, mean_absolute_percentage_error\n",
    "\n",
    "# Expand display options\n",
    "pd.set_option(\"display.max_rows\", None)  # Show all rows\n",
    "pd.set_option(\"display.max_columns\", None)  # Show all columns\n",
    "pd.set_option(\"display.max_colwidth\", None)  # Do not truncate column text\n",
    "pd.set_option(\"display.expand_frame_repr\", False)  # Avoid line wrapping"
   ]
  },
  {
   "cell_type": "code",
   "execution_count": 5,
   "metadata": {},
   "outputs": [],
   "source": [
    "df_OHE = pd.read_csv('../DataSet/RegressionData/healthinsurance_OHE.csv')\n",
    "df_LE = pd.read_csv('../DataSet/RegressionData/healthinsurance_LE.csv')"
   ]
  },
  {
   "cell_type": "code",
   "execution_count": 6,
   "metadata": {},
   "outputs": [
    {
     "name": "stdout",
     "output_type": "stream",
     "text": [
      "Fitting 5 folds for each of 1000 candidates, totalling 5000 fits\n",
      "Best parameters found: {'tree_method': 'hist', 'subsample': 1.0, 'reg_lambda': 2, 'reg_alpha': 0.1, 'n_estimators': 700, 'max_depth': 12, 'learning_rate': 0.05, 'gamma': 0.1, 'colsample_bytree': 0.9}\n",
      "Best cross-validation score: -0.03244293927187586\n",
      "Train set R² score: 1.0\n",
      "Train set MAPE: 0.01%\n",
      "Test set R² score: 0.9726386070251465\n",
      "Test set MAPE: 3.27%\n"
     ]
    }
   ],
   "source": [
    "X = df_LE.drop('claim', axis=1)\n",
    "\n",
    "y = df_LE['claim']\n",
    "\n",
    "\n",
    "# Split data (80% train, 20% test)\n",
    "X_train, X_test, y_train, y_test = train_test_split(X, y, test_size=0.2, random_state=42)\n",
    "\n",
    "# Define XGBoost model\n",
    "xgb = XGBRegressor(objective='reg:squarederror', random_state=42, n_jobs=-1)\n",
    "\n",
    "param_dist = {\n",
    "    'n_estimators': [300, 400, 500, 700],  # More trees for better generalization\n",
    "    'max_depth': [7, 10, 12],  # Reduce from 15 to limit overfitting\n",
    "    'learning_rate': [0.05, 0.1, 0.15],  # Slightly lower than 0.2 for better stability\n",
    "    'subsample': [0.8, 0.9, 1.0],  # Encourage slight randomness to improve robustness\n",
    "    'colsample_bytree': [0.7, 0.8, 0.9],  # Avoid using all features for each tree\n",
    "    'gamma': [0.1, 0.2, 0.3],  # Encourage meaningful splits by increasing gamma\n",
    "    'reg_alpha': [0.05, 0.1, 0.5],  # Moderate L1 regularization for sparsity\n",
    "    'reg_lambda': [2, 5, 7],  # Stronger L2 regularization for better generalization\n",
    "    'tree_method': ['hist'],  # Use histogram-based algorithm for faster training\n",
    "}\n",
    "\n",
    "\n",
    "mape_scorer = make_scorer(mean_absolute_percentage_error, greater_is_better=False)  # Minimize error\n",
    "\n",
    "# Set up RandomizedSearchCV\n",
    "random_search = RandomizedSearchCV(\n",
    "    estimator=xgb,\n",
    "    param_distributions=param_dist,\n",
    "    n_iter=1000,  # Number of parameter combinations to try\n",
    "    cv=5,  # 5-fold cross-validation\n",
    "    n_jobs=-1,  # Use all available cores\n",
    "    random_state=42,  # Ensure reproducibility\n",
    "    verbose=3,  # Show intermediate progress\n",
    "    scoring=mape_scorer,\n",
    ")\n",
    "\n",
    "# Fit RandomizedSearchCV on training data\n",
    "random_search.fit(X_train, y_train)\n",
    "\n",
    "# Predictions on training set\n",
    "y_train_pred = random_search.best_estimator_.predict(X_train)\n",
    "r2_train = r2_score(y_train, y_train_pred)\n",
    "mape_train = mean_absolute_percentage_error(y_train, y_train_pred) * 100  # Convert to %\n",
    "\n",
    "# Predictions on test set\n",
    "y_test_pred = random_search.best_estimator_.predict(X_test)\n",
    "r2_test = r2_score(y_test, y_test_pred)\n",
    "mape_test = mean_absolute_percentage_error(y_test, y_test_pred) * 100  # Convert to %\n",
    "\n",
    "# Print results\n",
    "print(\"Best parameters found:\", random_search.best_params_)\n",
    "print(\"Best cross-validation score:\", random_search.best_score_)\n",
    "print(\"Train set R² score:\", r2_train)\n",
    "print(f\"Train set MAPE: {mape_train:.2f}%\")\n",
    "print(\"Test set R² score:\", r2_test)\n",
    "print(f\"Test set MAPE: {mape_test:.2f}%\")\n"
   ]
  },
  {
   "cell_type": "code",
   "execution_count": 7,
   "metadata": {},
   "outputs": [
    {
     "name": "stdout",
     "output_type": "stream",
     "text": [
      "                                                                                                                                                                                params  mean_test_score  std_test_score\n",
      "521   {'tree_method': 'hist', 'subsample': 1.0, 'reg_lambda': 2, 'reg_alpha': 0.1, 'n_estimators': 700, 'max_depth': 12, 'learning_rate': 0.05, 'gamma': 0.1, 'colsample_bytree': 0.9}        -0.032443        0.001769\n",
      "77   {'tree_method': 'hist', 'subsample': 1.0, 'reg_lambda': 2, 'reg_alpha': 0.05, 'n_estimators': 400, 'max_depth': 12, 'learning_rate': 0.05, 'gamma': 0.3, 'colsample_bytree': 0.9}        -0.032598        0.001809\n",
      "212   {'tree_method': 'hist', 'subsample': 1.0, 'reg_lambda': 2, 'reg_alpha': 0.1, 'n_estimators': 400, 'max_depth': 12, 'learning_rate': 0.05, 'gamma': 0.2, 'colsample_bytree': 0.9}        -0.032606        0.001756\n",
      "727   {'tree_method': 'hist', 'subsample': 1.0, 'reg_lambda': 2, 'reg_alpha': 0.5, 'n_estimators': 400, 'max_depth': 12, 'learning_rate': 0.05, 'gamma': 0.3, 'colsample_bytree': 0.9}        -0.032690        0.001563\n",
      "774    {'tree_method': 'hist', 'subsample': 1.0, 'reg_lambda': 2, 'reg_alpha': 0.1, 'n_estimators': 700, 'max_depth': 12, 'learning_rate': 0.1, 'gamma': 0.1, 'colsample_bytree': 0.9}        -0.033116        0.002016\n",
      "174   {'tree_method': 'hist', 'subsample': 1.0, 'reg_lambda': 2, 'reg_alpha': 0.5, 'n_estimators': 300, 'max_depth': 12, 'learning_rate': 0.05, 'gamma': 0.1, 'colsample_bytree': 0.9}        -0.033137        0.001536\n",
      "953    {'tree_method': 'hist', 'subsample': 1.0, 'reg_lambda': 2, 'reg_alpha': 0.5, 'n_estimators': 700, 'max_depth': 12, 'learning_rate': 0.1, 'gamma': 0.1, 'colsample_bytree': 0.9}        -0.033170        0.001931\n",
      "327    {'tree_method': 'hist', 'subsample': 1.0, 'reg_lambda': 2, 'reg_alpha': 0.5, 'n_estimators': 400, 'max_depth': 12, 'learning_rate': 0.1, 'gamma': 0.1, 'colsample_bytree': 0.9}        -0.033170        0.001931\n",
      "577   {'tree_method': 'hist', 'subsample': 1.0, 'reg_lambda': 2, 'reg_alpha': 0.1, 'n_estimators': 700, 'max_depth': 12, 'learning_rate': 0.05, 'gamma': 0.3, 'colsample_bytree': 0.8}        -0.033250        0.002545\n",
      "343   {'tree_method': 'hist', 'subsample': 1.0, 'reg_lambda': 2, 'reg_alpha': 0.1, 'n_estimators': 700, 'max_depth': 12, 'learning_rate': 0.05, 'gamma': 0.2, 'colsample_bytree': 0.8}        -0.033300        0.002411\n"
     ]
    }
   ],
   "source": [
    "# Get Top 10 parameters and scores\n",
    "results = pd.DataFrame(random_search.cv_results_)\n",
    "results = results.sort_values(by='rank_test_score')\n",
    "results = results[['params', 'mean_test_score', 'std_test_score']]\n",
    "print(results.head(10))"
   ]
  }
 ],
 "metadata": {
  "kernelspec": {
   "display_name": "Python 3",
   "language": "python",
   "name": "python3"
  },
  "language_info": {
   "codemirror_mode": {
    "name": "ipython",
    "version": 3
   },
   "file_extension": ".py",
   "mimetype": "text/x-python",
   "name": "python",
   "nbconvert_exporter": "python",
   "pygments_lexer": "ipython3",
   "version": "3.11.9"
  }
 },
 "nbformat": 4,
 "nbformat_minor": 2
}
